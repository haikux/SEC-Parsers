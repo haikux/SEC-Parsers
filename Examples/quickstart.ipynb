{
 "cells": [
  {
   "cell_type": "markdown",
   "metadata": {},
   "source": [
    "### Parsing SEC filings with SEC Parsers\n",
    "\n",
    "Declare our imports, and create a nice helper function."
   ]
  },
  {
   "cell_type": "code",
   "execution_count": 1,
   "metadata": {},
   "outputs": [],
   "source": [
    "from sec_parsers import Filing, download_sec_filing, set_headers\n",
    "\n",
    "def print_first_n_lines(text, n):\n",
    "    lines = text.split('\\n')\n",
    "    for line in lines[:n]:\n",
    "        print(line)"
   ]
  },
  {
   "cell_type": "markdown",
   "metadata": {},
   "source": [
    "Download Tesla's 10K 2023 Filing after setting headers."
   ]
  },
  {
   "cell_type": "code",
   "execution_count": 2,
   "metadata": {},
   "outputs": [],
   "source": [
    "set_headers(\"John Test\",'johntest@example.com')\n",
    "html = download_sec_filing('https://www.sec.gov/Archives/edgar/data/1318605/000162828024002390/tsla-20231231.htm')"
   ]
  },
  {
   "cell_type": "markdown",
   "metadata": {},
   "source": [
    "Create a new Parser object and examine its html"
   ]
  },
  {
   "cell_type": "code",
   "execution_count": 3,
   "metadata": {},
   "outputs": [
    {
     "data": {
      "text/plain": [
       "<Element html at 0x2d5185cb7c0>"
      ]
     },
     "execution_count": 3,
     "metadata": {},
     "output_type": "execute_result"
    }
   ],
   "source": [
    "filing = Filing(html)\n",
    "filing.html"
   ]
  },
  {
   "cell_type": "markdown",
   "metadata": {},
   "source": [
    "Parse the filing and examine the new filing.xml attribute."
   ]
  },
  {
   "cell_type": "code",
   "execution_count": 4,
   "metadata": {},
   "outputs": [
    {
     "data": {
      "text/plain": [
       "<Element root at 0x2d5182bc400>"
      ]
     },
     "execution_count": 4,
     "metadata": {},
     "output_type": "execute_result"
    }
   ],
   "source": [
    "\n",
    "filing.parse() # parses filing\n",
    "filing.xml\n"
   ]
  },
  {
   "cell_type": "markdown",
   "metadata": {},
   "source": [
    "Print the tree structure."
   ]
  },
  {
   "cell_type": "code",
   "execution_count": 5,
   "metadata": {},
   "outputs": [
    {
     "name": "stdout",
     "output_type": "stream",
     "text": [
      "root\n",
      "document\n",
      "|-introduction\n",
      "|-part\n",
      "|-|-item\n",
      "|-|-|-company_defined_section\n",
      "|-|-|-company_defined_section\n",
      "|-|-|-company_defined_section\n",
      "|-|-|-company_defined_section\n",
      "|-|-|-company_defined_section\n"
     ]
    }
   ],
   "source": [
    "print_first_n_lines(filing.get_tree(),10)"
   ]
  },
  {
   "cell_type": "markdown",
   "metadata": {},
   "source": [
    "Titles are more descriptive than tags, so lets look at those by printing the title tree."
   ]
  },
  {
   "cell_type": "code",
   "execution_count": 6,
   "metadata": {},
   "outputs": [
    {
     "name": "stdout",
     "output_type": "stream",
     "text": [
      "\n",
      "Document\n",
      "|-Introduction\n",
      "|-PART I\n",
      "|-|-ITEM 1. BUSINESS\n",
      "|-|-|-Overview\n",
      "|-|-|-Segment Information\n",
      "|-|-|-Our Products and Services\n",
      "|-|-|-Automotive\n",
      "|-|-|-Energy Generation and Storage\n",
      "|-|-|-|-Energy Storage Products\n",
      "|-|-|-|-Solar Energy Offerings\n",
      "|-|-|-|-Technology\n",
      "|-|-|-Automotive\n",
      "|-|-|-|-Battery and Powertrain\n",
      "|-|-|-|-Vehicle Control and Infotainment Software\n",
      "|-|-|-|-Self-Driving Development and Artificial Intelligence\n",
      "|-|-|-Energy Generation and Storage\n",
      "|-|-|-|-Energy Storage Products\n",
      "|-|-|-|-Solar Energy Systems\n"
     ]
    }
   ],
   "source": [
    "print_first_n_lines(filing.get_title_tree(),20)"
   ]
  },
  {
   "cell_type": "markdown",
   "metadata": {},
   "source": [
    "### Find node by title\n",
    "\n",
    "Note that find_nodes_by_titles returns a list."
   ]
  },
  {
   "cell_type": "code",
   "execution_count": 7,
   "metadata": {},
   "outputs": [],
   "source": [
    "item1a = filing.find_nodes_by_title('item 1a') [0]"
   ]
  },
  {
   "cell_type": "markdown",
   "metadata": {},
   "source": [
    "SEC Parsers parses titles of sections into the title attribute and removes it from the original text. You can access the text of a node using traditional xml methods, but it will be missing the titles of the node and its children."
   ]
  },
  {
   "cell_type": "code",
   "execution_count": 8,
   "metadata": {},
   "outputs": [
    {
     "name": "stdout",
     "output_type": "stream",
     "text": [
      "ITEM 1A. RISK FACTORS\n",
      "\n",
      "You should carefully consider the risks described below together with the other information set forth in this report, which could materially affect our business, financial condition and future results. The risks described below are not the only risks facing our company. Risks and uncertainties not currently known to us or that we currently deem to be immaterial also may materially adversely affect our business, financial condition and operating results.\n",
      "\n",
      "Risks Related to Our Ability to Grow Our Business\n",
      "\n",
      "We may experience delays in launching and ramping the production of our products and features, or we may be unable to control our manufacturing costs.\n",
      "We have previously experienced and may in the future experience launch and production ramp delays for new products and features. For example, we encountered unanticipated supplier issues that led to delays during the initial ramp of our first Model X and experienced challenges with a supplier and with ramping full automation for certain of our initial Model 3 manufacturing processes. In addition, we may introduce in the future new or unique manufacturing processes and design features for our products. As we expand our vehicle offerings and global footprint, there is no guarantee that we will be able to successfully and timely introduce and scale such processes or features.\n",
      "\n",
      "Our suppliers may fail to deliver components according to schedules, prices, quality and volumes that are acceptable to us, or we may be unable to manage these components effectively.\n"
     ]
    }
   ],
   "source": [
    "item1a_text = filing.get_node_text(item1a)\n",
    "print_first_n_lines(item1a_text,10)"
   ]
  },
  {
   "cell_type": "markdown",
   "metadata": {},
   "source": [
    "Find nodes by text."
   ]
  },
  {
   "cell_type": "code",
   "execution_count": 9,
   "metadata": {},
   "outputs": [
    {
     "name": "stdout",
     "output_type": "stream",
     "text": [
      "While the regulatory regime for energy storage projects is still under development, there are various policies, incentives and financial mechanisms at the federal, state and local levels that support the adoption of energy storage.\n",
      "For example, energy storage systems that are charged using solar energy may be eligible for the solar energy-related U.S. federal tax credits described below. The Federal Energy Regulatory Commission (“FERC”) has also taken steps to enable the participation of energy storage in wholesale energy markets. In addition, California and a number of other states have adopted procurement targets for energy storage, and behind-the-meter energy storage systems qualify for funding under the California Self Generation Incentive Program. Our customers primarily benefit directly under these programs. In certain instances our customers may transfer such credits to us as contract consideration. In such transactions, they are included as a component of energy generation and storage revenues in our consolidated statements of operations included elsewhere in this Annual Report on Form 10-K.\n",
      "Pursuant to the IRA, under Sections 48, 48E and 25D of the Internal Revenue Code (”IRC”), standalone energy storage technology is eligible for a tax credit between 6% and 50% of qualified expenditures, regardless of the source of energy, which may be claimed by our customers for storage systems they purchase or by us for arrangements where we own the systems. These tax credits are primarily for the benefit of our customers and are currently scheduled to phase-out starting in 2032 or later.\n",
      "\n",
      "\n"
     ]
    }
   ],
   "source": [
    "node = filing.find_nodes_by_text(\"In certain instances our customers may transfer such credits to us as contract consideration.\")[0]\n",
    "node_text = filing.get_node_text(node)\n",
    "print_first_n_lines(node_text,10)"
   ]
  },
  {
   "cell_type": "markdown",
   "metadata": {},
   "source": [
    "Save data to xml or csv. Note that saving to csv will save every node to csv, not just parents leading to larger files."
   ]
  },
  {
   "cell_type": "code",
   "execution_count": 10,
   "metadata": {},
   "outputs": [],
   "source": [
    "filing.save_xml('tesla_10k.xml')\n",
    "filing.save_csv('tesla_10k.csv')"
   ]
  },
  {
   "cell_type": "markdown",
   "metadata": {},
   "source": [
    "Visualize the parsing in webbrowser"
   ]
  },
  {
   "cell_type": "code",
   "execution_count": 11,
   "metadata": {},
   "outputs": [],
   "source": [
    "filing.visualize()"
   ]
  }
 ],
 "metadata": {
  "kernelspec": {
   "display_name": "Python 3",
   "language": "python",
   "name": "python3"
  },
  "language_info": {
   "codemirror_mode": {
    "name": "ipython",
    "version": 3
   },
   "file_extension": ".py",
   "mimetype": "text/x-python",
   "name": "python",
   "nbconvert_exporter": "python",
   "pygments_lexer": "ipython3",
   "version": "3.11.5"
  }
 },
 "nbformat": 4,
 "nbformat_minor": 2
}
